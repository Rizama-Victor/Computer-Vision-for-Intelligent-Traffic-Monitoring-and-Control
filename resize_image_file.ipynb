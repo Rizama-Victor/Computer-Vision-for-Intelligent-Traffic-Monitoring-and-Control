{
 "cells": [
  {
   "cell_type": "code",
   "execution_count": 2,
   "id": "e7999e2e-70c5-4c8b-882a-699bf6e76cbd",
   "metadata": {},
   "outputs": [
    {
     "name": "stdout",
     "output_type": "stream",
     "text": [
      "Resized and saved: 5723.jpg\n"
     ]
    }
   ],
   "source": [
    "from PIL import Image\n",
    "import os\n",
    "\n",
    "# Folder containing images\n",
    "folder_path = 'resize'  # Replace with the path to your folder if needed\n",
    "output_size = (640, 640)\n",
    "\n",
    "# Iterate over all files in the folder\n",
    "for filename in os.listdir(folder_path):\n",
    "    if filename.endswith('.jpg') or filename.endswith('.png'):\n",
    "        # Full path of the image\n",
    "        img_path = os.path.join(folder_path, filename)\n",
    "        \n",
    "        # Open the image\n",
    "        with Image.open(img_path) as img:\n",
    "            # Resize the image\n",
    "            resized_img = img.resize(output_size, Image.LANCZOS)\n",
    "            \n",
    "            # Save the resized image, overwriting the original\n",
    "            resized_img.save(img_path)\n",
    "            print(f\"Resized and saved: {filename}\")\n"
   ]
  }
 ],
 "metadata": {
  "kernelspec": {
   "display_name": "Python 3 (ipykernel)",
   "language": "python",
   "name": "python3"
  },
  "language_info": {
   "codemirror_mode": {
    "name": "ipython",
    "version": 3
   },
   "file_extension": ".py",
   "mimetype": "text/x-python",
   "name": "python",
   "nbconvert_exporter": "python",
   "pygments_lexer": "ipython3",
   "version": "3.12.4"
  }
 },
 "nbformat": 4,
 "nbformat_minor": 5
}
